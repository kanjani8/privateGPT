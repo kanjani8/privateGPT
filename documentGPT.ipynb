{
 "cells": [
  {
   "cell_type": "markdown",
   "metadata": {},
   "source": [
    "RAG\n",
    "Build a Retrieval Augmented Generation (RAG) App\n",
    "1. Load - Split - Embed -Store additional datas."
   ]
  },
  {
   "cell_type": "code",
   "execution_count": 20,
   "metadata": {},
   "outputs": [
    {
     "data": {
      "text/plain": [
       "[Document(page_content=\"ALICE'S ADVENTURES IN WONDERLAND\\n Lewis Carroll\\nCHAPTER I\\nDown the Rabbit-Hole\\n  Alice was beginning to get very tired of sitting by her sister\\non the bank, and of having nothing to do:  once or twice she had\\npeeped into the book her sister was reading, but it had no\\npictures or conversations in it, `and what is the use of a book,'\\nthought Alice `without pictures or conversation?'\\n  So she was considering in her own mind (as well as she could,\\nfor the hot day made her feel very sleepy and stupid), whether\\nthe pleasure of making a daisy-chain would be worth the trouble\", metadata={'source': 'documents/Alice_in_Wonderland_short.docx'}),\n",
       " Document(page_content=\"the pleasure of making a daisy-chain would be worth the trouble\\nof getting up and picking the daisies, when suddenly a White\\nRabbit with pink eyes ran close by her.\\n  There was nothing so VERY remarkable in that; nor did Alice\\nthink it so VERY much out of the way to hear the Rabbit say to\\nitself, `Oh dear!  Oh dear!  I shall be late!'  (when she thought\\nit over afterwards, it occurred to her that she ought to have\\nwondered at this, but at the time it all seemed quite natural);\\nbut when the Rabbit actually TOOK A WATCH OUT OF ITS WAISTCOAT-\", metadata={'source': 'documents/Alice_in_Wonderland_short.docx'}),\n",
       " Document(page_content='but when the Rabbit actually TOOK A WATCH OUT OF ITS WAISTCOAT-\\nPOCKET, and looked at it, and then hurried on, Alice started to\\nher feet, for it flashed across her mind that she had never\\nbefore seen a rabbit with either a waistcoat-pocket, or a watch to\\ntake out of it, and burning with curiosity, she ran across the\\nfield after it, and fortunately was just in time to see it pop\\ndown a large rabbit-hole under the hedge.\\n  In another moment down went Alice after it, never once\\nconsidering how in the world she was to get out again.\\n  The rabbit-hole went straight on like a tunnel for some way,', metadata={'source': 'documents/Alice_in_Wonderland_short.docx'}),\n",
       " Document(page_content='The rabbit-hole went straight on like a tunnel for some way,\\nand then dipped suddenly down, so suddenly that Alice had not a\\nmoment to think about stopping herself before she found herself\\nfalling down a very deep well.\\n  Either the well was very deep, or she fell very slowly, for she\\nhad plenty of time as she went down to look about her and to\\nwonder what was going to happen next.  First, she tried to look\\ndown and make out what she was coming to, but it was too dark to\\nsee anything; then she looked at the sides of the well, and\\nnoticed that they were filled with cupboards and book-shelves;', metadata={'source': 'documents/Alice_in_Wonderland_short.docx'}),\n",
       " Document(page_content=\"noticed that they were filled with cupboards and book-shelves;\\nhere and there she saw maps and pictures hung upon pegs.  She\\ntook down a jar from one of the shelves as she passed; it was\\nlabelled `ORANGE MARMALADE', but to her great disappointment it\\nwas empty:  she did not like to drop the jar for fear of killing\\nsomebody, so managed to put it into one of the cupboards as she\\nfell past it.\\n  `Well!' thought Alice to herself, `after such a fall as this, I\\nshall think nothing of tumbling down stairs!  How brave they'll\\nall think me at home!  Why, I wouldn't say anything about it,\", metadata={'source': 'documents/Alice_in_Wonderland_short.docx'}),\n",
       " Document(page_content=\"all think me at home!  Why, I wouldn't say anything about it,\\neven if I fell off the top of the house!' (Which was very likely\\ntrue.)\\n  Down, down, down.  Would the fall NEVER come to an end!  `I\\nwonder how many miles I've fallen by this time?' she said aloud.\\n`I must be getting somewhere near the centre of the earth.  Let\\nme see:  that would be four thousand miles down, I think--' (for,\\nyou see, Alice had learnt several things of this sort in her\\nlessons in the schoolroom, and though this was not a VERY good\\nopportunity for showing off her knowledge, as there was no one to\", metadata={'source': 'documents/Alice_in_Wonderland_short.docx'}),\n",
       " Document(page_content=\"opportunity for showing off her knowledge, as there was no one to\\nlisten to her, still it was good practice to say it over) `--yes,\\nthat's about the right distance--but then I wonder what Latitude\\nor Longitude I've got to?'  (Alice had no idea what Latitude was,\\nor Longitude either, but thought they were nice grand words to\\nsay.)\\n  Presently she began again.  `I wonder if I shall fall right\\nTHROUGH the earth!  How funny it'll seem to come out among the\\npeople that walk with their heads downward!  The Antipathies, I\\nthink--' (she was rather glad there WAS no one listening, this\", metadata={'source': 'documents/Alice_in_Wonderland_short.docx'}),\n",
       " Document(page_content=\"think--' (she was rather glad there WAS no one listening, this\\ntime, as it didn't sound at all the right word) `--but I shall\\nhave to ask them what the name of the country is, you know.\\nPlease, Ma'am, is this New Zealand or Australia?' (and she tried\\nto curtsey as she spoke--fancy CURTSEYING as you're falling\\nthrough the air!  Do you think you could manage it?)  `And what\\nan ignorant little girl she'll think me for asking!  No, it'll\\nnever do to ask:  perhaps I shall see it written up somewhere.'\\n  Down, down, down.  There was nothing else to do, so Alice soon\", metadata={'source': 'documents/Alice_in_Wonderland_short.docx'}),\n",
       " Document(page_content=\"Down, down, down.  There was nothing else to do, so Alice soon\\nbegan talking again.  `Dinah'll miss me very much to-night, I\\nshould think!'  (Dinah was the cat.)  `I hope they'll remember\\nher saucer of milk at tea-time.  Dinah my dear!  I wish you were\\ndown here with me!  There are no mice in the air, I'm afraid, but\\nyou might catch a bat, and that's very like a mouse, you know.\\nBut do cats eat bats, I wonder?'  And here Alice began to get\\nrather sleepy, and went on saying to herself, in a dreamy sort of\\nway, `Do cats eat bats?  Do cats eat bats?' and sometimes, `Do\", metadata={'source': 'documents/Alice_in_Wonderland_short.docx'}),\n",
       " Document(page_content=\"way, `Do cats eat bats?  Do cats eat bats?' and sometimes, `Do\\nbats eat cats?' for, you see, as she couldn't answer either\\nquestion, it didn't much matter which way she put it.  She felt\\nthat she was dozing off, and had just begun to dream that she\\nwas walking hand in hand with Dinah, and saying to her very\\nearnestly, `Now, Dinah, tell me the truth:  did you ever eat a\\nbat?' when suddenly, thump! thump! down she came upon a heap of\\nsticks and dry leaves, and the fall was over.\\n  Alice was not a bit hurt, and she jumped up on to her feet in a\", metadata={'source': 'documents/Alice_in_Wonderland_short.docx'}),\n",
       " Document(page_content=\"Alice was not a bit hurt, and she jumped up on to her feet in a\\nmoment:  she looked up, but it was all dark overhead; before her\\nwas another long passage, and the White Rabbit was still in\\nsight, hurrying down it.  There was not a moment to be lost:\\naway went Alice like the wind, and was just in time to hear it\\nsay, as it turned a corner, `Oh my ears and whiskers, how late\\nit's getting!'  She was close behind it when she turned the\\ncorner, but the Rabbit was no longer to be seen:  she found\\nherself in a long, low hall, which was lit up by a row of lamps\\nhanging from the roof.\", metadata={'source': 'documents/Alice_in_Wonderland_short.docx'}),\n",
       " Document(page_content=\"herself in a long, low hall, which was lit up by a row of lamps\\nhanging from the roof.\\n  There were doors all round the hall, but they were all locked;\\nand when Alice had been all the way down one side and up the\\nother, trying every door, she walked sadly down the middle,\\nwondering how she was ever to get out again.\\n  Suddenly she came upon a little three-legged table, all made of\\nsolid glass; there was nothing on it except a tiny golden key,\\nand Alice's first thought was that it might belong to one of the\\ndoors of the hall; but, alas! either the locks were too large, or\", metadata={'source': 'documents/Alice_in_Wonderland_short.docx'}),\n",
       " Document(page_content='doors of the hall; but, alas! either the locks were too large, or\\nthe key was too small, but at any rate it would not open any of\\nthem.  However, on the second time round, she came upon a low\\ncurtain she had not noticed before, and behind it was a little\\ndoor about fifteen inches high:  she tried the little golden key\\nin the lock, and to her great delight it fitted!\\n  Alice opened the door and found that it led into a small\\npassage, not much larger than a rat-hole:  she knelt down and\\nlooked along the passage into the loveliest garden you ever saw.', metadata={'source': 'documents/Alice_in_Wonderland_short.docx'}),\n",
       " Document(page_content=\"looked along the passage into the loveliest garden you ever saw.\\nHow she longed to get out of that dark hall, and wander about\\namong those beds of bright flowers and those cool fountains, but\\nshe could not even get her head through the doorway; `and even if\\nmy head would go through,' thought poor Alice, `it would be of\\nvery little use without my shoulders.  Oh, how I wish\\nI could shut up like a telescope!  I think I could, if I only\\nknow how to begin.'  For, you see, so many out-of-the-way things\\nhad happened lately, that Alice had begun to think that very few\", metadata={'source': 'documents/Alice_in_Wonderland_short.docx'}),\n",
       " Document(page_content=\"had happened lately, that Alice had begun to think that very few\\nthings indeed were really impossible.\\n  There seemed to be no use in waiting by the little door, so she\\nwent back to the table, half hoping she might find another key on\\nit, or at any rate a book of rules for shutting people up like\\ntelescopes:  this time she found a little bottle on it, (`which\\ncertainly was not here before,' said Alice,) and round the neck\\nof the bottle was a paper label, with the words `DRINK ME'\\nbeautifully printed on it in large letters.\\n  It was all very well to say `Drink me,' but the wise little\", metadata={'source': 'documents/Alice_in_Wonderland_short.docx'}),\n",
       " Document(page_content='It was all very well to say `Drink me,\\' but the wise little\\nAlice was not going to do THAT in a hurry.  `No, I\\'ll look\\nfirst,\\' she said, `and see whether it\\'s marked \"poison\" or not\\';\\nfor she had read several nice little histories about children who\\nhad got burnt, and eaten up by wild beasts and other unpleasant\\nthings, all because they WOULD not remember the simple rules\\ntheir friends had taught them:  such as, that a red-hot poker\\nwill burn you if you hold it too long; and that if you cut your\\nfinger VERY deeply with a knife, it usually bleeds; and she had', metadata={'source': 'documents/Alice_in_Wonderland_short.docx'}),\n",
       " Document(page_content=\"finger VERY deeply with a knife, it usually bleeds; and she had\\nnever forgotten that, if you drink much from a bottle marked\\n`poison,' it is almost certain to disagree with you, sooner or\\nlater.\\n  However, this bottle was NOT marked `poison,' so Alice ventured\\nto taste it, and finding it very nice, (it had, in fact, a sort\\nof mixed flavour of cherry-tart, custard, pine-apple, roast\\nturkey, toffee, and hot buttered toast,) she very soon finished\\nit off.\\n*       *       *       *       *       *       *\\n*       *       *       *       *       *\\n*       *       *       *       *       *       *\", metadata={'source': 'documents/Alice_in_Wonderland_short.docx'}),\n",
       " Document(page_content=\"*       *       *       *       *       *\\n*       *       *       *       *       *       *\\n  `What a curious feeling!' said Alice; `I must be shutting up\\nlike a telescope.'\\n  And so it was indeed:  she was now only ten inches high, and\\nher face brightened up at the thought that she was now the right\\nsize for going through the little door into that lovely garden.\\nFirst, however, she waited for a few minutes to see if she was\\ngoing to shrink any further:  she felt a little nervous about\\nthis; `for it might end, you know,' said Alice to herself, `in my\", metadata={'source': 'documents/Alice_in_Wonderland_short.docx'}),\n",
       " Document(page_content=\"this; `for it might end, you know,' said Alice to herself, `in my\\ngoing out altogether, like a candle.  I wonder what I should be\\nlike then?'  And she tried to fancy what the flame of a candle is\\nlike after the candle is blown out, for she could not remember\\never having seen such a thing.\\n  After a while, finding that nothing more happened, she decided\\non going into the garden at once; but, alas for poor Alice!\\nwhen she got to the door, she found she had forgotten the\\nlittle golden key, and when she went back to the table for it,\\nshe found she could not possibly reach it:  she could see it\", metadata={'source': 'documents/Alice_in_Wonderland_short.docx'}),\n",
       " Document(page_content=\"she found she could not possibly reach it:  she could see it\\nquite plainly through the glass, and she tried her best to climb\\nup one of the legs of the table, but it was too slippery;\\nand when she had tired herself out with trying,\\nthe poor little thing sat down and cried.\\n  `Come, there's no use in crying like that!' said Alice to\\nherself, rather sharply; `I advise you to leave off this minute!'\\nShe generally gave herself very good advice, (though she very\\nseldom followed it), and sometimes she scolded herself so\\nseverely as to bring tears into her eyes; and once she remembered\", metadata={'source': 'documents/Alice_in_Wonderland_short.docx'}),\n",
       " Document(page_content=\"severely as to bring tears into her eyes; and once she remembered\\ntrying to box her own ears for having cheated herself in a game\\nof croquet she was playing against herself, for this curious\\nchild was very fond of pretending to be two people.  `But it's no\\nuse now,' thought poor Alice, `to pretend to be two people!  Why,\\nthere's hardly enough of me left to make ONE respectable\\nperson!'\\n  Soon her eye fell on a little glass box that was lying under\\nthe table:  she opened it, and found in it a very small cake, on\\nwhich the words `EAT ME' were beautifully marked in currants.\", metadata={'source': 'documents/Alice_in_Wonderland_short.docx'}),\n",
       " Document(page_content=\"which the words `EAT ME' were beautifully marked in currants.\\n`Well, I'll eat it,' said Alice, `and if it makes me grow larger,\\nI can reach the key; and if it makes me grow smaller, I can creep\\nunder the door; so either way I'll get into the garden, and I\\ndon't care which happens!'\\n  She ate a little bit, and said anxiously to herself, `Which\\nway?  Which way?', holding her hand on the top of her head to\\nfeel which way it was growing, and she was quite surprised to\\nfind that she remained the same size:  to be sure, this generally\\nhappens when one eats cake, but Alice had got so much into the\", metadata={'source': 'documents/Alice_in_Wonderland_short.docx'}),\n",
       " Document(page_content='happens when one eats cake, but Alice had got so much into the\\nway of expecting nothing but out-of-the-way things to happen,\\nthat it seemed quite dull and stupid for life to go on in the\\ncommon way.\\n  So she set to work, and very soon finished off the cake.', metadata={'source': 'documents/Alice_in_Wonderland_short.docx'})]"
      ]
     },
     "execution_count": 20,
     "metadata": {},
     "output_type": "execute_result"
    }
   ],
   "source": [
    "from langchain.chat_models import ChatOpenAI\n",
    "from langchain.document_loaders import TextLoader, PyPDFLoader, UnstructuredFileLoader\n",
    "from langchain.text_splitter import RecursiveCharacterTextSplitter, CharacterTextSplitter\n",
    "\n",
    "# splitter = RecursiveCharacterTextSplitter(\n",
    "#     chunk_size=300,\n",
    "#     chunk_overlap=50 # overlap words so that short chunk makes sence\n",
    "# ) # seperate the text into  paragraphs and sentences\n",
    "\n",
    "splitter = CharacterTextSplitter(\n",
    "    chunk_size=600,\n",
    "    chunk_overlap=100,\n",
    "    separator= \"\\n\" \n",
    ")\n",
    "\n",
    "#loader = TextLoader(\"documents/Alice_in_Wonderland_short.txt\")\n",
    "#loader = PyPDFLoader(\"documents/Alice_in_Wonderland_short.pdf\")\n",
    "loader = UnstructuredFileLoader(\"documents/Alice_in_Wonderland_short.docx\")\n",
    "#loader.load()\n",
    "loader.load_and_split(text_splitter=splitter)\n"
   ]
  }
 ],
 "metadata": {
  "kernelspec": {
   "display_name": "env",
   "language": "python",
   "name": "python3"
  },
  "language_info": {
   "codemirror_mode": {
    "name": "ipython",
    "version": 3
   },
   "file_extension": ".py",
   "mimetype": "text/x-python",
   "name": "python",
   "nbconvert_exporter": "python",
   "pygments_lexer": "ipython3",
   "version": "3.10.12"
  }
 },
 "nbformat": 4,
 "nbformat_minor": 2
}
