{
 "cells": [
  {
   "cell_type": "markdown",
   "metadata": {},
   "source": [
    "3.4 chaining chains - create language teacher chain\n",
    "\n"
   ]
  },
  {
   "cell_type": "code",
   "execution_count": 11,
   "metadata": {},
   "outputs": [],
   "source": [
    "from langchain.chat_models import ChatOpenAI\n",
    "from langchain.prompts import ChatPromptTemplate\n",
    "\n",
    "from langchain.callbacks import StreamingStdOutCallbackHandler\n",
    "\n",
    "chat = ChatOpenAI(\n",
    "    temperature = 0.9, \n",
    "    streaming = True, \n",
    "    callbacks=[StreamingStdOutCallbackHandler()]) # StreamingStdOutCallbackHandler - print out every available letter\n",
    "\n",
    "langTeach_prompt = ChatPromptTemplate.from_messages([\n",
    "    (\"system\", \"You are a Ukrainian teacher who teaches Ukrainian Language. You create easy examples and explanations. And you only reply in Ukrainian.\"),\n",
    "    (\"human\", \"Please explain about {anything} in {language1}\")\n",
    "])\n",
    "\n",
    "langTeach_chain = langTeach_prompt | chat"
   ]
  },
  {
   "cell_type": "markdown",
   "metadata": {},
   "source": [
    "3.4 chaining chains  - create Korean tutor chain\n",
    " "
   ]
  },
  {
   "cell_type": "code",
   "execution_count": 12,
   "metadata": {},
   "outputs": [
    {
     "name": "stdout",
     "output_type": "stream",
     "text": [
      "Ви їсте так мало. \n",
      "\n",
      "Українське речення складається із займенника \"Ви\" (You), дієслова \"їсте\" (eat) і прислівника \"так\" (so), який вказує на ступінь порівняння, та прикметника \"мало\" (small), який вказує на кількісну ознаку.\"Ви їсте так мало.\"라는 문장은 \"당신은 너무 적게 먹어요.\"로 해석됩니다. 이 문장은 \"Ви\" (당신), \"їсте\" (먹다) 동사, \"так\" (너무) 비교급을 나타내는 부사, \"мало\" (적은) 양을 나타내는 형용사로 구성되어 있습니다."
     ]
    },
    {
     "data": {
      "text/plain": [
       "AIMessage(content='\"Ви їсте так мало.\"라는 문장은 \"당신은 너무 적게 먹어요.\"로 해석됩니다. 이 문장은 \"Ви\" (당신), \"їсте\" (먹다) 동사, \"так\" (너무) 비교급을 나타내는 부사, \"мало\" (적은) 양을 나타내는 형용사로 구성되어 있습니다.', response_metadata={'finish_reason': 'stop'}, id='run-6cdd7e51-a61e-40f0-9d9d-07ab3f8c19a1-0')"
      ]
     },
     "execution_count": 12,
     "metadata": {},
     "output_type": "execute_result"
    }
   ],
   "source": [
    "korTutor_prompt = ChatPromptTemplate.from_messages([\n",
    "    (\"system\", \"You are a Korean tutor who helps Korean students learning a foreign language. You usually translate explanations in Korean but you can modify the example and make alternative explanation which is more familiar and easy to understand for Korean students. And you usually reply in Korean, use other language only if it is necessary\"),\n",
    "    (\"human\", \" {previous_answer} \")\n",
    "])\n",
    "\n",
    "kor_chain = korTutor_prompt | chat\n",
    "\n",
    "\n",
    "final_chain = {\"previous_answer\":langTeach_chain} | kor_chain\n",
    "\n",
    "final_chain.invoke({\n",
    "    \"language1\": \"Ukrainian\",\n",
    "    \"anything\" : \"How can I say You eat so small\"\n",
    "})\n"
   ]
  },
  {
   "cell_type": "markdown",
   "metadata": {},
   "source": [
    "4.2 - Fewshot template - show the models some examples to make the answer better\n",
    "4.3 - FewshotChatMessage template\n"
   ]
  },
  {
   "cell_type": "code",
   "execution_count": 24,
   "metadata": {},
   "outputs": [
    {
     "name": "stdout",
     "output_type": "stream",
     "text": [
      "AI:\n",
      "        Here is what I know:\n",
      "        Capital: Kyiv\n",
      "        Language: Ukrainian\n",
      "        Food: Borscht and Varenyky\n",
      "        Currency: Ukrainian Hryvnia"
     ]
    },
    {
     "data": {
      "text/plain": [
       "AIMessage(content='AI:\\n        Here is what I know:\\n        Capital: Kyiv\\n        Language: Ukrainian\\n        Food: Borscht and Varenyky\\n        Currency: Ukrainian Hryvnia', response_metadata={'finish_reason': 'stop'}, id='run-49b373e3-9a25-4f5d-8b3e-fdc7e64e88cc-0')"
      ]
     },
     "execution_count": 24,
     "metadata": {},
     "output_type": "execute_result"
    }
   ],
   "source": [
    "from langchain.chat_models import ChatOpenAI\n",
    "from langchain.callbacks import StreamingStdOutCallbackHandler\n",
    "from langchain.prompts import PromptTemplate, ChatPromptTemplate\n",
    "\n",
    "from langchain.prompts.few_shot import FewShotPromptTemplate, FewShotChatMessagePromptTemplate\n",
    "\n",
    "\n",
    "chat = ChatOpenAI(\n",
    "    temperature = 0.9, \n",
    "    streaming = True, \n",
    "    callbacks=[StreamingStdOutCallbackHandler()]\n",
    "    ) \n",
    "\n",
    "# examples = [\n",
    "#     {\n",
    "#         \"question\": \"What do you know about France?\",\n",
    "#         \"answer\": \"\"\"\n",
    "#         Here is what I know:\n",
    "#         Capital: Paris\n",
    "#         Language: French\n",
    "#         Food: Wine and Cheese\n",
    "#         Currency: Euro\n",
    "#         \"\"\",\n",
    "#     },\n",
    "#     {\n",
    "#         \"question\": \"What do you know about Italy?\",\n",
    "#         \"answer\": \"\"\"\n",
    "#         I know this:\n",
    "#         Capital: Rome\n",
    "#         Language: Italian\n",
    "#         Food: Pizza and Pasta\n",
    "#         Currency: Euro\n",
    "#         \"\"\",\n",
    "#     },\n",
    "#     {\n",
    "#         \"question\": \"What do you know about Greece?\",\n",
    "#         \"answer\": \"\"\"\n",
    "#         I know this:\n",
    "#         Capital: Athens\n",
    "#         Language: Greek\n",
    "#         Food: Souvlaki and Feta Cheese\n",
    "#         Currency: Euro\n",
    "#         \"\"\",\n",
    "#     },\n",
    "# ]\n",
    "\n",
    "examples = [\n",
    "    {\n",
    "        \"city\": \"Kyoto\",\n",
    "        \"answer\": \"\"\"\n",
    "        Here is what I recommend:\n",
    "        Place: Fushimi Inari Taisha, Arashiyama Bamboo forest, Kiyomizudera\n",
    "        Food: Matcha Green tea and Tenkaippin Ramen\n",
    "        To do : Wear kimono and walk around the shirine, Try Traditional Tea ceremony \n",
    "        \"\"\",\n",
    "    },\n",
    "    {\n",
    "        \"city\": \"Tokyo\",\n",
    "        \"answer\": \"\"\"\n",
    "         Here is what I recommend:\n",
    "        Place: Senso-ji Temple, Shibuya Crossing, Meiji Shrine\n",
    "        Food: Sushi, Ramen, Matcha Desserts\n",
    "    T   To Do: Explore the historic Asakusa district in traditional Yukata, participate in a sushi-making class, visit  teamLab Borderless for a digital art experience\n",
    "        \"\"\",\n",
    "    },\n",
    "    {\n",
    "        \"city\": \"Vancouver\",\n",
    "        \"answer\": \"\"\"\n",
    "        Here is what I recommend:\n",
    "        Place: Stanley Park, Granville Island, Capilano Suspension Bridge\n",
    "        Food: Pacific Northwest Seafood, Japadog, Poutine\n",
    "        To Do: Bike around Stanley Park, explore the public market on Granville Island, walk through the Capilano Suspension Bridge Park\n",
    "        \"\"\",\n",
    "    },\n",
    "        {\n",
    "        \"city\": \"Calgary\",\n",
    "        \"answer\": \"\"\"\n",
    "        Here is what I recommend:\n",
    "        Place: Calgary Tower, Heritage Park, Banff National Park (nearby)\n",
    "        Food: Alberta Beef, Game Meat, Canadian Rye Whiskey\n",
    "        To Do: Visit the Calgary Tower for panoramic city views, explore Canadian history at Heritage Park, take a day trip to Banford National Park for hiking or skiing\n",
    "        \"\"\",\n",
    "    },\n",
    "]\n",
    "\n",
    "# example_template = \"\"\"\n",
    "#     Human:{question}\n",
    "#     AI: {answer}\n",
    "\n",
    "# \"\"\"\n",
    "\n",
    "#example_prompt = PromptTemplate.from_template(example_template)\n",
    "\n",
    "example_prompt = ChatPromptTemplate.from_messages([\n",
    "    (\"human\", \"What do you know about {city}\"),\n",
    "    (\"ai\", \"{question}\")\n",
    "])\n",
    "\n",
    "# prompt = FewShotPromptTemplate(\n",
    "#     example_prompt=example_prompt,\n",
    "#     examples= examples,\n",
    "#     suffix= \"Human: What do you know about {country}?\",\n",
    "#     input_variables=[\"country\"]\n",
    "#     )\n",
    "\n",
    "prompt = FewShotChatMessagePromptTemplate(\n",
    "    example_prompt=example_prompt,\n",
    "    examples=examples\n",
    ")\n",
    "\n",
    "final_prompt = ChatPromptTemplate.from_messages([\n",
    "    (\"system\", \"You are a Seoul Travel Guide.\"),\n",
    "    prompt, example_prompt\n",
    "])\n",
    "\n",
    "#prompt.format(Country = \"Korea\")\n",
    "\n",
    "# chain = prompt | chat\n",
    "chain =  final_prompt | chat\n",
    "# chain.invoke({\n",
    "#     \"country\": \"Ukraine\"\n",
    "# })\n",
    "\n",
    "chain.invoke({\n",
    "    \"city\": \"Seoul\"\n",
    "})"
   ]
  }
 ],
 "metadata": {
  "kernelspec": {
   "display_name": "env",
   "language": "python",
   "name": "python3"
  },
  "language_info": {
   "codemirror_mode": {
    "name": "ipython",
    "version": 3
   },
   "file_extension": ".py",
   "mimetype": "text/x-python",
   "name": "python",
   "nbconvert_exporter": "python",
   "pygments_lexer": "ipython3",
   "version": "3.10.12"
  }
 },
 "nbformat": 4,
 "nbformat_minor": 2
}
