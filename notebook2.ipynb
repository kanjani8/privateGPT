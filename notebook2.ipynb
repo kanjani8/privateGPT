{
 "cells": [
  {
   "cell_type": "markdown",
   "metadata": {},
   "source": [
    "3.4 chaining chains - create language teacher chain"
   ]
  },
  {
   "cell_type": "code",
   "execution_count": 11,
   "metadata": {},
   "outputs": [],
   "source": [
    "from langchain.chat_models import ChatOpenAI\n",
    "from langchain.prompts import ChatPromptTemplate\n",
    "from langchain.callbacks import StreamingStdOutCallbackHandler\n",
    "\n",
    "chat = ChatOpenAI(\n",
    "    temperature = 0.9, streaming = True, callbacks=[StreamingStdOutCallbackHandler()]) \n",
    "\n",
    "langTeach_prompt = ChatPromptTemplate.from_messages([\n",
    "    (\"system\", \"You are a Ukrainian teacher who teaches Ukrainian Language. You create easy examples and explanations. And you only reply in Ukrainian.\"),\n",
    "    (\"human\", \"Please explain about {anything} in {language1}\")\n",
    "])\n",
    "\n",
    "langTeach_chain = langTeach_prompt | chat"
   ]
  },
  {
   "cell_type": "markdown",
   "metadata": {},
   "source": [
    "3.4 chaining chains  - create Korean tutor chain\n",
    " "
   ]
  },
  {
   "cell_type": "code",
   "execution_count": 12,
   "metadata": {},
   "outputs": [
    {
     "name": "stdout",
     "output_type": "stream",
     "text": [
      "Ви їсте так мало. \n",
      "\n",
      "Українське речення складається із займенника \"Ви\" (You), дієслова \"їсте\" (eat) і прислівника \"так\" (so), який вказує на ступінь порівняння, та прикметника \"мало\" (small), який вказує на кількісну ознаку.\"Ви їсте так мало.\"라는 문장은 \"당신은 너무 적게 먹어요.\"로 해석됩니다. 이 문장은 \"Ви\" (당신), \"їсте\" (먹다) 동사, \"так\" (너무) 비교급을 나타내는 부사, \"мало\" (적은) 양을 나타내는 형용사로 구성되어 있습니다."
     ]
    },
    {
     "data": {
      "text/plain": [
       "AIMessage(content='\"Ви їсте так мало.\"라는 문장은 \"당신은 너무 적게 먹어요.\"로 해석됩니다. 이 문장은 \"Ви\" (당신), \"їсте\" (먹다) 동사, \"так\" (너무) 비교급을 나타내는 부사, \"мало\" (적은) 양을 나타내는 형용사로 구성되어 있습니다.', response_metadata={'finish_reason': 'stop'}, id='run-6cdd7e51-a61e-40f0-9d9d-07ab3f8c19a1-0')"
      ]
     },
     "execution_count": 12,
     "metadata": {},
     "output_type": "execute_result"
    }
   ],
   "source": [
    "korTutor_prompt = ChatPromptTemplate.from_messages([\n",
    "    (\"system\", \"You are a Korean tutor who helps Korean students learning Ukrainian language. You usually translate explanations in Korean but you can modify the example and make alternative explanation which is more familiar and easy to understand for Korean students. And you only reply in Korean.\"),\n",
    "    (\"human\", \" {previous_answer} \")\n",
    "])\n",
    "\n",
    "kor_chain = korTutor_prompt | chat\n",
    "\n",
    "\n",
    "final_chain = {\"previous_answer\":langTeach_chain} | kor_chain\n",
    "\n",
    "final_chain.invoke({\n",
    "    \"language1\": \"Ukrainian\",\n",
    "    \"anything\" : \"How can I say You eat so small\"\n",
    "})\n"
   ]
  }
 ],
 "metadata": {
  "kernelspec": {
   "display_name": "env",
   "language": "python",
   "name": "python3"
  },
  "language_info": {
   "codemirror_mode": {
    "name": "ipython",
    "version": 3
   },
   "file_extension": ".py",
   "mimetype": "text/x-python",
   "name": "python",
   "nbconvert_exporter": "python",
   "pygments_lexer": "ipython3",
   "version": "3.10.12"
  }
 },
 "nbformat": 4,
 "nbformat_minor": 2
}
