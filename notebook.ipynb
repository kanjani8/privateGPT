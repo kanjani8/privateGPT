{
 "cells": [
  {
   "cell_type": "code",
   "execution_count": 22,
   "metadata": {},
   "outputs": [
    {
     "data": {
      "text/plain": [
       "AIMessage(content='Відстань між Україною і Токіо приблизно 8900 кілометрів. Мене звуть Неділя.', response_metadata={'token_usage': {'completion_tokens': 48, 'prompt_tokens': 55, 'total_tokens': 103}, 'model_name': 'gpt-3.5-turbo', 'system_fingerprint': None, 'finish_reason': 'stop', 'logprobs': None}, id='run-ba5cfd2c-dbe8-40a5-916c-88384004e6cc-0')"
      ]
     },
     "execution_count": 22,
     "metadata": {},
     "output_type": "execute_result"
    }
   ],
   "source": [
    "\n",
    "#from langchain_openai import OpenAI\n",
    "from langchain.chat_models import ChatOpenAI\n",
    "\n",
    "# llm = OpenAI(model_name=\"gpt-3.5-turbo-instruct\")\n",
    "# chat = ChatOpenAI(openai_api_key=api_key, model_name=\"gpt-3.5-turbo\")\n",
    "#llm = OpenAI()\n",
    "# chat = ChatOpenAI(\n",
    "#     temperature = 1 # how creative the model is. 0.1~1.\n",
    "# )\n",
    "#a = llm.predict(\"How many planets are there?\")\n",
    "# b = chat.predict(\"how many planets are there?\")\n",
    "\n",
    "# b\n",
    "\n",
    "#message constructors to predict messages\n",
    "# from langchain.schema import HumanMessage, AIMessage, SystemMessage # system message는 LLM을 세팅할때 보내는 메시지\n",
    "\n",
    "# messages = [\n",
    "#     SystemMessage(content=\"You are a geography expert. And you only reply in Japanese.\",\n",
    "#                   ),\n",
    "#                   AIMessage(content=\"こんにちは、私は{name}です。\"),\n",
    "#                   HumanMessage(content=\"what is the distance between {country_a} and {country_b}? and Also, what is your name?\")\n",
    "\n",
    "# ]\n",
    "\n",
    "# chat.predict_messages(messages)\n",
    "\n",
    "\n",
    "from langchain.prompts import PromptTemplate, ChatPromptTemplate\n",
    "\n",
    "chat = ChatOpenAI(temperature = 1) # how creative the model is. 0.1~1.\n",
    "\n",
    "# template = PromptTemplate.from_template(\"what is the distance between {country_a} and {country_b}?\")\n",
    "# prompt = template.format(country_a=\"Turkey\", country_b=\"Japan\")\n",
    "\n",
    "# chat.predict(prompt)\n",
    "\n",
    "template = ChatPromptTemplate.from_messages([\n",
    "    (\"system\", \"You are a geography expert. And you only reply in {language}.\"),\n",
    "    (\"ai\", \"こんにちは、私は{name}です。\"),\n",
    "    (\"human\", \"what is the distance between {place_a} and {place_b}? and Also, what is your name?\")\n",
    "])\n",
    "\n",
    "prompt = template.format_messages(\n",
    "    language=\"Ukraine\",\n",
    "    name=\"Nedilya\",\n",
    "    place_a=\"Ukraine\",\n",
    "    place_b=\"Tokyo\"\n",
    ")\n",
    "\n",
    "chat.predict_messages(prompt)"
   ]
  },
  {
   "cell_type": "code",
   "execution_count": 23,
   "metadata": {},
   "outputs": [
    {
     "data": {
      "text/plain": [
       "['Pikachu', 'Bulbasaur', 'Charmander', 'Squirtle', 'Jigglypuff']"
      ]
     },
     "execution_count": 23,
     "metadata": {},
     "output_type": "execute_result"
    }
   ],
   "source": [
    "from langchain.schema import BaseOutputParser\n",
    "\n",
    "class CommaOutputParser(BaseOutputParser):\n",
    "\n",
    "    def parse(self, text):\n",
    "        items = text.strip().split(\",\") #strip: strip away the\n",
    "        return list(map(str.strip, items))\n",
    "    \n",
    "\n",
    "template = ChatPromptTemplate.from_messages([\n",
    "    (\"system\", \"You are a list generating machine. Everything you are asked\" + \n",
    "     \"will be answered with a comma-seperated list of max {max_items}. Do not reply with anything else.\"),\n",
    "     (\"human\", \"{question}\")\n",
    "])\n",
    "\n",
    "#old unneceserry codes\n",
    "# prompt = template.format_messages(\n",
    "#      c\n",
    "# )\n",
    "\n",
    "# result = chat.predict_messages(prompt)\n",
    "\n",
    "# p = CommaOutputParser()\n",
    "# p.parse(result.content)\n",
    "\n",
    "\n",
    "chain = template | chat | CommaOutputParser()\n",
    "chain.invoke({\n",
    "    \"max_items\": 5,\n",
    "    \"question\": \"What are the pokemons?\"\n",
    "})"
   ]
  },
  {
   "cell_type": "code",
   "execution_count": null,
   "metadata": {},
   "outputs": [],
   "source": [
    "# chain_one = template | chat | CommaOutputParser()\n",
    "# chain_two= template2 | chat2 | OutputParser()\n",
    "# chain_one = chain_one| chain_two | OutputParser()"
   ]
  },
  {
   "cell_type": "code",
   "execution_count": null,
   "metadata": {},
   "outputs": [],
   "source": []
  },
  {
   "cell_type": "code",
   "execution_count": null,
   "metadata": {},
   "outputs": [],
   "source": []
  }
 ],
 "metadata": {
  "kernelspec": {
   "display_name": "env",
   "language": "python",
   "name": "python3"
  },
  "language_info": {
   "name": "python",
   "version": "3.10.12"
  }
 },
 "nbformat": 4,
 "nbformat_minor": 2
}
