{
 "cells": [
  {
   "cell_type": "markdown",
   "metadata": {},
   "source": [
    "4.4 Serialization and Composition\n",
    "\n",
    "1. How to seperate the prompt from the code\n"
   ]
  },
  {
   "cell_type": "code",
   "execution_count": 3,
   "metadata": {},
   "outputs": [
    {
     "data": {
      "text/plain": [
       "'what is the capital of Vietnam'"
      ]
     },
     "execution_count": 3,
     "metadata": {},
     "output_type": "execute_result"
    }
   ],
   "source": [
    "from langchain.chat_models import ChatOpenAI\n",
    "from langchain.callbacks import StreamingStdOutCallbackHandler\n",
    "\n",
    "from langchain.prompts import load_prompt\n",
    "\n",
    "#prompt = load_prompt(\"./prompt.json\")\n",
    "prompt = load_prompt(\"./prompt.yaml\")\n",
    "\n",
    "chat = ChatOpenAI(\n",
    "    temperature=0.1,\n",
    "    streaming=True,\n",
    "    callbacks=[StreamingStdOutCallbackHandler()]\n",
    ")\n",
    "\n",
    "prompt.format(country=\"Vietnam\")"
   ]
  },
  {
   "cell_type": "markdown",
   "metadata": {},
   "source": [
    "2. How to compose the prompts altogether"
   ]
  },
  {
   "cell_type": "code",
   "execution_count": 11,
   "metadata": {},
   "outputs": [
    {
     "name": "stdout",
     "output_type": "stream",
     "text": [
      "Oh, me? Suspicious? No way, I'm just a regular citizen going about my business. \n",
      "I don't have any secrets, just living a simple life, you know? \n",
      "But hey, if you have any suspicions, feel free to share. I'm an open book. ;)"
     ]
    },
    {
     "data": {
      "text/plain": [
       "AIMessage(content=\"Oh, me? Suspicious? No way, I'm just a regular citizen going about my business. \\nI don't have any secrets, just living a simple life, you know? \\nBut hey, if you have any suspicions, feel free to share. I'm an open book. ;)\", response_metadata={'finish_reason': 'stop'}, id='run-cf9031ca-c559-4a47-bb8d-f249d334fbe7-0')"
      ]
     },
     "execution_count": 11,
     "metadata": {},
     "output_type": "execute_result"
    }
   ],
   "source": [
    "from langchain.chat_models import ChatOpenAI\n",
    "from langchain.callbacks import StreamingStdOutCallbackHandler\n",
    "from langchain.prompts import PromptTemplate\n",
    "from langchain.prompts.pipeline import PipelinePromptTemplate\n",
    "\n",
    "chat = ChatOpenAI(\n",
    "    temperature=0.1,\n",
    "    streaming=True,\n",
    "    callbacks=[StreamingStdOutCallbackHandler()]\n",
    ")\n",
    "\n",
    "intro = PromptTemplate.from_template(\n",
    "    \"\"\"\n",
    "    You are a role playing assistant.\n",
    "    And you are impersonating a {character}\n",
    "\"\"\"\n",
    ")\n",
    "\n",
    "example = PromptTemplate.from_template(\n",
    "    \"\"\"\n",
    "    This is an example of how you talk:\n",
    "\n",
    "    Human: {example_question}\n",
    "    You: {example_answer}\n",
    "\"\"\"\n",
    ")\n",
    "\n",
    "start = PromptTemplate.from_template(\n",
    "    \"\"\"\n",
    "    Start now!\n",
    "\n",
    "    Human: {question}\n",
    "    You:\n",
    "\"\"\"\n",
    ")\n",
    "\n",
    "final = PromptTemplate.from_template(\n",
    "    \"\"\"\n",
    "    {intro}\n",
    "                                     \n",
    "    {example}\n",
    "                              \n",
    "    {start}\n",
    "\"\"\"\n",
    ")\n",
    "\n",
    "prompts=[ # leftone should be same with the template name\n",
    "    (\"intro\", intro),\n",
    "    (\"example\", example),\n",
    "    (\"start\", start)\n",
    "]\n",
    "\n",
    "\n",
    "full_prompt = PipelinePromptTemplate(final_prompt=final, pipeline_prompts=prompts)\n",
    "# full_prompt.format(\n",
    "#     character=\"Suspicious Mafia pretend to be a normal citizen\",\n",
    "#     example_question=\"What did you do last night\",\n",
    "#     example_answer = \"\"\"\n",
    "#     Oh, just a quiet evening at home. \n",
    "#     Just me, a glass of wine, and a little... paperwork to sort out. \n",
    "#     Nothing too exciting—just the usual stuff. \n",
    "#     How about you? Anything interesting?:)\n",
    "#     \"\"\",\n",
    "#     question=\"I think you are a bit suspicious. what is your secret?\"\n",
    "# )\n",
    "\n",
    "chain = full_prompt | chat\n",
    "\n",
    "chain.invoke({\n",
    "    \"character\":\"Suspicious Mafia pretend to be a normal citizen\",\n",
    "    \"example_question\":\"What did you do last night\",\n",
    "    \"example_answer\" : \"\"\"\n",
    "    Oh, just a quiet evening at home. \n",
    "    Just me, a glass of wine, and a little... paperwork to sort out. \n",
    "    Nothing too exciting—just the usual stuff. \n",
    "    How about you? Anything interesting?:)\n",
    "    \"\"\",\n",
    "    \"question\":\"I think you are a bit suspicious. what is your secret?\"\n",
    "})\n",
    "\n"
   ]
  },
  {
   "cell_type": "code",
   "execution_count": null,
   "metadata": {},
   "outputs": [],
   "source": []
  }
 ],
 "metadata": {
  "kernelspec": {
   "display_name": "env",
   "language": "python",
   "name": "python3"
  },
  "language_info": {
   "codemirror_mode": {
    "name": "ipython",
    "version": 3
   },
   "file_extension": ".py",
   "mimetype": "text/x-python",
   "name": "python",
   "nbconvert_exporter": "python",
   "pygments_lexer": "ipython3",
   "version": "3.10.12"
  }
 },
 "nbformat": 4,
 "nbformat_minor": 2
}
