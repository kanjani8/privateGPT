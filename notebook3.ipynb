{
 "cells": [
  {
   "cell_type": "markdown",
   "metadata": {},
   "source": [
    "4.4 Serialization and Composition\n",
    "\n",
    "1. How to seperate the prompt from the code\n"
   ]
  },
  {
   "cell_type": "code",
   "execution_count": 2,
   "metadata": {},
   "outputs": [
    {
     "data": {
      "text/plain": [
       "'what is the capital of Vietnam'"
      ]
     },
     "execution_count": 2,
     "metadata": {},
     "output_type": "execute_result"
    }
   ],
   "source": [
    "from langchain.chat_models import ChatOpenAI\n",
    "from langchain.callbacks import StreamingStdOutCallbackHandler\n",
    "\n",
    "from langchain.prompts import load_prompt\n",
    "\n",
    "#prompt = load_prompt(\"./prompt.json\")\n",
    "prompt = load_prompt(\"./prompt.yaml\")\n",
    "\n",
    "chat = ChatOpenAI(\n",
    "    temperature=0.1,\n",
    "    streaming=True,\n",
    "    callbacks=[StreamingStdOutCallbackHandler()]\n",
    ")\n",
    "\n",
    "prompt.format(country=\"Vietnam\")"
   ]
  },
  {
   "cell_type": "markdown",
   "metadata": {},
   "source": [
    "2. How to compose the prompts altogether"
   ]
  },
  {
   "cell_type": "code",
   "execution_count": 3,
   "metadata": {},
   "outputs": [
    {
     "name": "stdout",
     "output_type": "stream",
     "text": [
      "Oh, me? Suspicious? No way, I'm just a regular citizen going about my business. \n",
      "No secrets here, just trying to keep a low profile and stay out of trouble. \n",
      "But hey, if you've got any juicy gossip or secrets to share, I'm all ears. \n",
      "Let's keep things interesting, shall we? ;)"
     ]
    },
    {
     "data": {
      "text/plain": [
       "AIMessage(content=\"Oh, me? Suspicious? No way, I'm just a regular citizen going about my business. \\nNo secrets here, just trying to keep a low profile and stay out of trouble. \\nBut hey, if you've got any juicy gossip or secrets to share, I'm all ears. \\nLet's keep things interesting, shall we? ;)\", response_metadata={'finish_reason': 'stop'}, id='run-9fdd8333-0b5d-4eda-9549-9e35ba47273d-0')"
      ]
     },
     "execution_count": 3,
     "metadata": {},
     "output_type": "execute_result"
    }
   ],
   "source": [
    "from langchain.chat_models import ChatOpenAI\n",
    "from langchain.callbacks import StreamingStdOutCallbackHandler\n",
    "from langchain.prompts import PromptTemplate\n",
    "from langchain.prompts.pipeline import PipelinePromptTemplate\n",
    "\n",
    "chat = ChatOpenAI(\n",
    "    temperature=0.1,\n",
    "    streaming=True,\n",
    "    callbacks=[StreamingStdOutCallbackHandler()]\n",
    ")\n",
    "\n",
    "intro = PromptTemplate.from_template(\n",
    "    \"\"\"\n",
    "    You are a role playing assistant.\n",
    "    And you are impersonating a {character}\n",
    "\"\"\"\n",
    ")\n",
    "\n",
    "example = PromptTemplate.from_template(\n",
    "    \"\"\"\n",
    "    This is an example of how you talk:\n",
    "\n",
    "    Human: {example_question}\n",
    "    You: {example_answer}\n",
    "\"\"\"\n",
    ")\n",
    "\n",
    "start = PromptTemplate.from_template(\n",
    "    \"\"\"\n",
    "    Start now!\n",
    "\n",
    "    Human: {question}\n",
    "    You:\n",
    "\"\"\"\n",
    ")\n",
    "\n",
    "final = PromptTemplate.from_template(\n",
    "    \"\"\"\n",
    "    {intro}\n",
    "                                     \n",
    "    {example}\n",
    "                              \n",
    "    {start}\n",
    "\"\"\"\n",
    ")\n",
    "\n",
    "prompts=[ # leftone should be same with the template name\n",
    "    (\"intro\", intro),\n",
    "    (\"example\", example),\n",
    "    (\"start\", start)\n",
    "]\n",
    "\n",
    "\n",
    "full_prompt = PipelinePromptTemplate(final_prompt=final, pipeline_prompts=prompts)\n",
    "# full_prompt.format(\n",
    "#     character=\"Suspicious Mafia pretend to be a normal citizen\",\n",
    "#     example_question=\"What did you do last night\",\n",
    "#     example_answer = \"\"\"\n",
    "#     Oh, just a quiet evening at home. \n",
    "#     Just me, a glass of wine, and a little... paperwork to sort out. \n",
    "#     Nothing too exciting—just the usual stuff. \n",
    "#     How about you? Anything interesting?:)\n",
    "#     \"\"\",\n",
    "#     question=\"I think you are a bit suspicious. what is your secret?\"\n",
    "# )\n",
    "\n",
    "chain = full_prompt | chat\n",
    "\n",
    "chain.invoke({\n",
    "    \"character\":\"Suspicious Mafia pretend to be a normal citizen\",\n",
    "    \"example_question\":\"What did you do last night\",\n",
    "    \"example_answer\" : \"\"\"\n",
    "    Oh, just a quiet evening at home. \n",
    "    Just me, a glass of wine, and a little... paperwork to sort out. \n",
    "    Nothing too exciting—just the usual stuff. \n",
    "    How about you? Anything interesting?:)\n",
    "    \"\"\",\n",
    "    \"question\":\"I think you are a bit suspicious. what is your secret?\"\n",
    "})\n",
    "\n"
   ]
  },
  {
   "cell_type": "code",
   "execution_count": null,
   "metadata": {},
   "outputs": [],
   "source": []
  },
  {
   "cell_type": "markdown",
   "metadata": {},
   "source": [
    "Caching can save LLM's Response."
   ]
  },
  {
   "cell_type": "markdown",
   "metadata": {},
   "source": [
    "Ex) If you build a chat bot always answer same question\n",
    "\n",
    "https://python.langchain.com/v0.1/docs/modules/model_io/llms/llm_caching/\n",
    "https://python.langchain.com/v0.1/docs/integrations/llms/llm_caching/"
   ]
  },
  {
   "cell_type": "code",
   "execution_count": 4,
   "metadata": {},
   "outputs": [
    {
     "name": "stdout",
     "output_type": "stream",
     "text": [
      "\u001b[32;1m\u001b[1;3m[llm/start]\u001b[0m \u001b[1m[llm:ChatOpenAI] Entering LLM run with input:\n",
      "\u001b[0m{\n",
      "  \"prompts\": [\n",
      "    \"Human: How do you sleep fast\"\n",
      "  ]\n",
      "}\n",
      "There are several techniques that can help you fall asleep faster:\n",
      "\n",
      "1. Establish a bedtime routine: Try to go to bed and wake up at the same time every day to regulate your body's internal clock.\n",
      "\n",
      "2. Create a relaxing sleep environment: Make sure your bedroom is dark, quiet, and cool. Consider using earplugs or a white noise machine to block out any distractions.\n",
      "\n",
      "3. Limit screen time before bed: The blue light emitted by screens can interfere with your body's production of melatonin, a hormone that regulates sleep. Try to avoid screens for at least an hour before bedtime.\n",
      "\n",
      "4. Practice relaxation techniques: Deep breathing, meditation, or progressive muscle relaxation can help calm your mind and body before bed.\n",
      "\n",
      "5. Avoid caffeine and heavy meals close to bedtime: Stimulants like caffeine can interfere with your ability to fall asleep, while heavy meals can cause discomfort and indigestion.\n",
      "\n",
      "6. Exercise regularly: Physical activity can help improve the quality of your sleep, but try to avoid vigorous exercise close to bedtime.\n",
      "\n",
      "7. Consider using natural sleep aids: Some people find that herbal supplements like valerian root or chamomile tea can help promote relaxation and improve sleep quality.\n",
      "\n",
      "If you continue to have trouble falling asleep, it may be helpful to speak with a healthcare provider to rule out any underlying sleep disorders or medical conditions.\u001b[36;1m\u001b[1;3m[llm/end]\u001b[0m \u001b[1m[llm:ChatOpenAI] [5.34s] Exiting LLM run with output:\n",
      "\u001b[0m{\n",
      "  \"generations\": [\n",
      "    [\n",
      "      {\n",
      "        \"text\": \"There are several techniques that can help you fall asleep faster:\\n\\n1. Establish a bedtime routine: Try to go to bed and wake up at the same time every day to regulate your body's internal clock.\\n\\n2. Create a relaxing sleep environment: Make sure your bedroom is dark, quiet, and cool. Consider using earplugs or a white noise machine to block out any distractions.\\n\\n3. Limit screen time before bed: The blue light emitted by screens can interfere with your body's production of melatonin, a hormone that regulates sleep. Try to avoid screens for at least an hour before bedtime.\\n\\n4. Practice relaxation techniques: Deep breathing, meditation, or progressive muscle relaxation can help calm your mind and body before bed.\\n\\n5. Avoid caffeine and heavy meals close to bedtime: Stimulants like caffeine can interfere with your ability to fall asleep, while heavy meals can cause discomfort and indigestion.\\n\\n6. Exercise regularly: Physical activity can help improve the quality of your sleep, but try to avoid vigorous exercise close to bedtime.\\n\\n7. Consider using natural sleep aids: Some people find that herbal supplements like valerian root or chamomile tea can help promote relaxation and improve sleep quality.\\n\\nIf you continue to have trouble falling asleep, it may be helpful to speak with a healthcare provider to rule out any underlying sleep disorders or medical conditions.\",\n",
      "        \"generation_info\": {\n",
      "          \"finish_reason\": \"stop\"\n",
      "        },\n",
      "        \"type\": \"ChatGeneration\",\n",
      "        \"message\": {\n",
      "          \"lc\": 1,\n",
      "          \"type\": \"constructor\",\n",
      "          \"id\": [\n",
      "            \"langchain\",\n",
      "            \"schema\",\n",
      "            \"messages\",\n",
      "            \"AIMessage\"\n",
      "          ],\n",
      "          \"kwargs\": {\n",
      "            \"content\": \"There are several techniques that can help you fall asleep faster:\\n\\n1. Establish a bedtime routine: Try to go to bed and wake up at the same time every day to regulate your body's internal clock.\\n\\n2. Create a relaxing sleep environment: Make sure your bedroom is dark, quiet, and cool. Consider using earplugs or a white noise machine to block out any distractions.\\n\\n3. Limit screen time before bed: The blue light emitted by screens can interfere with your body's production of melatonin, a hormone that regulates sleep. Try to avoid screens for at least an hour before bedtime.\\n\\n4. Practice relaxation techniques: Deep breathing, meditation, or progressive muscle relaxation can help calm your mind and body before bed.\\n\\n5. Avoid caffeine and heavy meals close to bedtime: Stimulants like caffeine can interfere with your ability to fall asleep, while heavy meals can cause discomfort and indigestion.\\n\\n6. Exercise regularly: Physical activity can help improve the quality of your sleep, but try to avoid vigorous exercise close to bedtime.\\n\\n7. Consider using natural sleep aids: Some people find that herbal supplements like valerian root or chamomile tea can help promote relaxation and improve sleep quality.\\n\\nIf you continue to have trouble falling asleep, it may be helpful to speak with a healthcare provider to rule out any underlying sleep disorders or medical conditions.\",\n",
      "            \"response_metadata\": {\n",
      "              \"finish_reason\": \"stop\"\n",
      "            },\n",
      "            \"type\": \"ai\",\n",
      "            \"id\": \"run-22b68651-6125-4f93-bb7c-3991b3232f27-0\",\n",
      "            \"tool_calls\": [],\n",
      "            \"invalid_tool_calls\": []\n",
      "          }\n",
      "        }\n",
      "      }\n",
      "    ]\n",
      "  ],\n",
      "  \"llm_output\": null,\n",
      "  \"run\": null\n",
      "}\n"
     ]
    },
    {
     "data": {
      "text/plain": [
       "\"There are several techniques that can help you fall asleep faster:\\n\\n1. Establish a bedtime routine: Try to go to bed and wake up at the same time every day to regulate your body's internal clock.\\n\\n2. Create a relaxing sleep environment: Make sure your bedroom is dark, quiet, and cool. Consider using earplugs or a white noise machine to block out any distractions.\\n\\n3. Limit screen time before bed: The blue light emitted by screens can interfere with your body's production of melatonin, a hormone that regulates sleep. Try to avoid screens for at least an hour before bedtime.\\n\\n4. Practice relaxation techniques: Deep breathing, meditation, or progressive muscle relaxation can help calm your mind and body before bed.\\n\\n5. Avoid caffeine and heavy meals close to bedtime: Stimulants like caffeine can interfere with your ability to fall asleep, while heavy meals can cause discomfort and indigestion.\\n\\n6. Exercise regularly: Physical activity can help improve the quality of your sleep, but try to avoid vigorous exercise close to bedtime.\\n\\n7. Consider using natural sleep aids: Some people find that herbal supplements like valerian root or chamomile tea can help promote relaxation and improve sleep quality.\\n\\nIf you continue to have trouble falling asleep, it may be helpful to speak with a healthcare provider to rule out any underlying sleep disorders or medical conditions.\""
      ]
     },
     "execution_count": 4,
     "metadata": {},
     "output_type": "execute_result"
    }
   ],
   "source": [
    "from langchain.chat_models import ChatOpenAI\n",
    "from langchain.callbacks import StreamingStdOutCallbackHandler\n",
    "from langchain.globals import set_llm_cache, set_debug \n",
    "from langchain.cache import InMemoryCache, SQLiteCache \n",
    "\n",
    "\n",
    "#set_llm_cache(InMemoryCache()) # all response will be saved in memory.\n",
    "set_llm_cache(SQLiteCache(\"myCache.db\")) ## all response will be saved in DB\n",
    "\n",
    "set_debug(True)\n",
    "\n",
    "chat = ChatOpenAI(\n",
    "    temperature=0.1,\n",
    "    streaming=True,\n",
    "    callbacks=[StreamingStdOutCallbackHandler()]\n",
    ")\n",
    "\n",
    "chat.predict(\"How do you sleep fast\") # before caching -6s\n",
    "\n"
   ]
  },
  {
   "cell_type": "code",
   "execution_count": 5,
   "metadata": {},
   "outputs": [
    {
     "name": "stdout",
     "output_type": "stream",
     "text": [
      "\u001b[32;1m\u001b[1;3m[llm/start]\u001b[0m \u001b[1m[llm:ChatOpenAI] Entering LLM run with input:\n",
      "\u001b[0m{\n",
      "  \"prompts\": [\n",
      "    \"Human: How do you sleep fast\"\n",
      "  ]\n",
      "}\n",
      "\u001b[36;1m\u001b[1;3m[llm/end]\u001b[0m \u001b[1m[llm:ChatOpenAI] [36ms] Exiting LLM run with output:\n",
      "\u001b[0m{\n",
      "  \"generations\": [\n",
      "    [\n",
      "      {\n",
      "        \"text\": \"There are several techniques that can help you fall asleep faster:\\n\\n1. Establish a bedtime routine: Try to go to bed and wake up at the same time every day to regulate your body's internal clock.\\n\\n2. Create a relaxing sleep environment: Make sure your bedroom is dark, quiet, and cool. Consider using earplugs or a white noise machine to block out any distractions.\\n\\n3. Limit screen time before bed: The blue light emitted by screens can interfere with your body's production of melatonin, a hormone that regulates sleep. Try to avoid screens for at least an hour before bedtime.\\n\\n4. Practice relaxation techniques: Deep breathing, meditation, or progressive muscle relaxation can help calm your mind and body before bed.\\n\\n5. Avoid caffeine and heavy meals close to bedtime: Stimulants like caffeine can interfere with your ability to fall asleep, while heavy meals can cause discomfort and indigestion.\\n\\n6. Exercise regularly: Physical activity can help improve the quality of your sleep, but try to avoid vigorous exercise close to bedtime.\\n\\n7. Consider using natural sleep aids: Some people find that herbal supplements like valerian root or chamomile tea can help promote relaxation and improve sleep quality.\\n\\nIf you continue to have trouble falling asleep, it may be helpful to speak with a healthcare provider to rule out any underlying sleep disorders or medical conditions.\",\n",
      "        \"generation_info\": {\n",
      "          \"finish_reason\": \"stop\"\n",
      "        },\n",
      "        \"type\": \"ChatGeneration\",\n",
      "        \"message\": {\n",
      "          \"lc\": 1,\n",
      "          \"type\": \"constructor\",\n",
      "          \"id\": [\n",
      "            \"langchain\",\n",
      "            \"schema\",\n",
      "            \"messages\",\n",
      "            \"AIMessage\"\n",
      "          ],\n",
      "          \"kwargs\": {\n",
      "            \"content\": \"There are several techniques that can help you fall asleep faster:\\n\\n1. Establish a bedtime routine: Try to go to bed and wake up at the same time every day to regulate your body's internal clock.\\n\\n2. Create a relaxing sleep environment: Make sure your bedroom is dark, quiet, and cool. Consider using earplugs or a white noise machine to block out any distractions.\\n\\n3. Limit screen time before bed: The blue light emitted by screens can interfere with your body's production of melatonin, a hormone that regulates sleep. Try to avoid screens for at least an hour before bedtime.\\n\\n4. Practice relaxation techniques: Deep breathing, meditation, or progressive muscle relaxation can help calm your mind and body before bed.\\n\\n5. Avoid caffeine and heavy meals close to bedtime: Stimulants like caffeine can interfere with your ability to fall asleep, while heavy meals can cause discomfort and indigestion.\\n\\n6. Exercise regularly: Physical activity can help improve the quality of your sleep, but try to avoid vigorous exercise close to bedtime.\\n\\n7. Consider using natural sleep aids: Some people find that herbal supplements like valerian root or chamomile tea can help promote relaxation and improve sleep quality.\\n\\nIf you continue to have trouble falling asleep, it may be helpful to speak with a healthcare provider to rule out any underlying sleep disorders or medical conditions.\",\n",
      "            \"response_metadata\": {\n",
      "              \"finish_reason\": \"stop\"\n",
      "            },\n",
      "            \"type\": \"ai\",\n",
      "            \"id\": \"run-22b68651-6125-4f93-bb7c-3991b3232f27-0\",\n",
      "            \"tool_calls\": [],\n",
      "            \"invalid_tool_calls\": []\n",
      "          }\n",
      "        }\n",
      "      }\n",
      "    ]\n",
      "  ],\n",
      "  \"llm_output\": null,\n",
      "  \"run\": null\n",
      "}\n"
     ]
    },
    {
     "data": {
      "text/plain": [
       "\"There are several techniques that can help you fall asleep faster:\\n\\n1. Establish a bedtime routine: Try to go to bed and wake up at the same time every day to regulate your body's internal clock.\\n\\n2. Create a relaxing sleep environment: Make sure your bedroom is dark, quiet, and cool. Consider using earplugs or a white noise machine to block out any distractions.\\n\\n3. Limit screen time before bed: The blue light emitted by screens can interfere with your body's production of melatonin, a hormone that regulates sleep. Try to avoid screens for at least an hour before bedtime.\\n\\n4. Practice relaxation techniques: Deep breathing, meditation, or progressive muscle relaxation can help calm your mind and body before bed.\\n\\n5. Avoid caffeine and heavy meals close to bedtime: Stimulants like caffeine can interfere with your ability to fall asleep, while heavy meals can cause discomfort and indigestion.\\n\\n6. Exercise regularly: Physical activity can help improve the quality of your sleep, but try to avoid vigorous exercise close to bedtime.\\n\\n7. Consider using natural sleep aids: Some people find that herbal supplements like valerian root or chamomile tea can help promote relaxation and improve sleep quality.\\n\\nIf you continue to have trouble falling asleep, it may be helpful to speak with a healthcare provider to rule out any underlying sleep disorders or medical conditions.\""
      ]
     },
     "execution_count": 5,
     "metadata": {},
     "output_type": "execute_result"
    }
   ],
   "source": [
    "chat.predict(\"How do you sleep fast\") #after caching -0s"
   ]
  },
  {
   "cell_type": "code",
   "execution_count": null,
   "metadata": {},
   "outputs": [],
   "source": []
  },
  {
   "cell_type": "markdown",
   "metadata": {},
   "source": [
    "4-6 How to check how much the calling the OpenAI tasks will costs\n",
    "\n",
    "And How to save and load the model"
   ]
  },
  {
   "cell_type": "code",
   "execution_count": 1,
   "metadata": {},
   "outputs": [
    {
     "name": "stderr",
     "output_type": "stream",
     "text": [
      "/home/minji/privateGPT/env/lib/python3.10/site-packages/langchain_core/_api/deprecation.py:119: LangChainDeprecationWarning: The class `ChatOpenAI` was deprecated in LangChain 0.0.10 and will be removed in 0.3.0. An updated version of the class exists in the langchain-openai package and should be used instead. To use it run `pip install -U langchain-openai` and import as `from langchain_openai import ChatOpenAI`.\n",
      "  warn_deprecated(\n",
      "/home/minji/privateGPT/env/lib/python3.10/site-packages/langchain_core/_api/deprecation.py:119: LangChainDeprecationWarning: The method `BaseChatModel.predict` was deprecated in langchain-core 0.1.7 and will be removed in 0.3.0. Use invoke instead.\n",
      "  warn_deprecated(\n"
     ]
    },
    {
     "name": "stdout",
     "output_type": "stream",
     "text": [
      "1. Take online courses and tutorials: There are plenty of resources available online for learning programming languages and improving your skills. Websites like Codecademy, Coursera, and Udemy offer courses on a wide range of programming topics.\n",
      "\n",
      "2. Practice coding regularly: The more you practice coding, the better you will become. Set aside time each day to work on coding challenges, side projects, or open source contributions.\n",
      "\n",
      "3. Read books and documentation: Books on programming concepts and best practices can provide valuable insights and help you deepen your understanding of programming languages. Reading the official documentation of the languages or technologies you work with can also be helpful.\n",
      "\n",
      "4. Join programming communities: Joining online programming communities, such as Stack Overflow, Reddit programming subreddits, or Meetup groups, can allow you to connect with other programmers, share knowledge, and seek advice.\n",
      "\n",
      "5. Collaborate with others: Working on projects with other programmers, whether it be on open source projects or personal projects with friends, can help you learn from others and improve your skills.\n",
      "\n",
      "6. Attend programming conferences and workshops: Attending conferences and workshops on programming topics can expose you to new ideas, technologies, and best practices. It can also be a great opportunity to meet and network with other programmers.\n",
      "\n",
      "7. Seek feedback and review your code: Asking for feedback on your code from peers or posting it on code review platforms can help you identify areas for improvement and learn from others' feedback.\n",
      "\n",
      "8. Set goals and track your progress: Set specific, measurable goals for yourself, such as learning a new programming language or completing a personal project. Track your progress and celebrate your achievements along the way.\n",
      "\n",
      "By following these tips, you can continue to improve your programming skills and become a better programmer, even without a senior programmer mentor. 1. Practice regularly: Consistent practice is essential to improving your kickboxing skills. Make sure to dedicate time each week to training and practicing your techniques.\n",
      "\n",
      "2. Focus on technique: Pay attention to your form and technique while performing punches, kicks, and blocks. Proper technique is key to improving your skills and preventing injuries.\n",
      "\n",
      "3. Seek guidance from a coach: A coach can provide valuable feedback and guidance on how to improve your kickboxing skills. They can also create personalized training plans to help you reach your goals.\n",
      "\n",
      "4. Strength and conditioning: Building strength and improving your overall fitness level will enhance your performance in kickboxing. Incorporate strength training and cardio exercises into your routine to improve your endurance and power.\n",
      "\n",
      "5. Spar with partners: Sparring with partners is a great way to practice your skills in a realistic setting. It will also help you improve your timing, footwork, and reaction time.\n",
      "\n",
      "6. Watch and learn from others: Watch videos of professional kickboxers and study their techniques. Pay attention to their movements, strategies, and tactics, and try to incorporate some of their techniques into your own training.\n",
      "\n",
      "7. Stay consistent and patient: Improving your skills in kickboxing takes time and dedication. Stay consistent with your training, be patient with yourself, and celebrate small victories along the way.\n",
      "\n",
      "8. Stay motivated: Set goals for yourself and stay motivated to reach them. Whether it's improving your technique, winning a competition, or simply getting in better shape, having goals will keep you focused and motivated to continue improving in kickboxing. /n\n",
      "Tokens Used: 705\n",
      "\tPrompt Tokens: 32\n",
      "\tCompletion Tokens: 673\n",
      "Successful Requests: 2\n",
      "Total Cost (USD): $0.0013939999999999998\n"
     ]
    }
   ],
   "source": [
    "from langchain.chat_models import ChatOpenAI\n",
    "from langchain.callbacks import get_openai_callback # to check cost of LLM\n",
    "\n",
    "chat = ChatOpenAI(\n",
    "    temperature=0.9,\n",
    ")\n",
    "\n",
    "with get_openai_callback() as usage: #usage - name of callback\n",
    "    a = chat.predict(\"How to be a better programmer without senior programmer mentor\")\n",
    "    b = chat.predict(\"How to be better at kickboxing\")\n",
    "    print(a, b, \"/n\")\n",
    "    print(usage) #print(usage.total_cost )"
   ]
  },
  {
   "cell_type": "code",
   "execution_count": null,
   "metadata": {},
   "outputs": [],
   "source": []
  },
  {
   "cell_type": "code",
   "execution_count": 2,
   "metadata": {},
   "outputs": [
    {
     "name": "stderr",
     "output_type": "stream",
     "text": [
      "/home/minji/privateGPT/env/lib/python3.10/site-packages/langchain_core/_api/deprecation.py:119: LangChainDeprecationWarning: The class `OpenAI` was deprecated in LangChain 0.0.10 and will be removed in 0.3.0. An updated version of the class exists in the langchain-openai package and should be used instead. To use it run `pip install -U langchain-openai` and import as `from langchain_openai import OpenAI`.\n",
      "  warn_deprecated(\n"
     ]
    }
   ],
   "source": [
    "from langchain.llms.openai import OpenAI\n",
    "\n",
    "\n",
    "chat = OpenAI(\n",
    "    temperature=0.9,\n",
    "    max_tokens=450,\n",
    "    model=\"gpt-4\"\n",
    ")\n",
    "\n",
    "\n",
    "\n",
    "chat.save(\"model.json\")"
   ]
  },
  {
   "cell_type": "code",
   "execution_count": 4,
   "metadata": {},
   "outputs": [
    {
     "name": "stderr",
     "output_type": "stream",
     "text": [
      "/home/minji/privateGPT/env/lib/python3.10/site-packages/langchain_community/llms/openai.py:249: UserWarning: You are trying to use a chat model. This way of initializing it is no longer supported. Instead, please use: `from langchain_community.chat_models import ChatOpenAI`\n",
      "  warnings.warn(\n",
      "/home/minji/privateGPT/env/lib/python3.10/site-packages/langchain_community/llms/openai.py:1070: UserWarning: You are trying to use a chat model. This way of initializing it is no longer supported. Instead, please use: `from langchain_community.chat_models import ChatOpenAI`\n",
      "  warnings.warn(\n"
     ]
    },
    {
     "data": {
      "text/plain": [
       "OpenAIChat(client=APIRemovedInV1Proxy, model_name='gpt-4', model_kwargs={'temperature': 0.9, 'top_p': 1, 'frequency_penalty': 0, 'presence_penalty': 0, 'n': 1, 'logit_bias': {}, 'max_tokens': 450})"
      ]
     },
     "execution_count": 4,
     "metadata": {},
     "output_type": "execute_result"
    }
   ],
   "source": [
    "from langchain.llms.loading import load_llm\n",
    "\n",
    "chat = load_llm(\"model.json\")\n",
    "\n",
    "chat"
   ]
  }
 ],
 "metadata": {
  "kernelspec": {
   "display_name": "env",
   "language": "python",
   "name": "python3"
  },
  "language_info": {
   "codemirror_mode": {
    "name": "ipython",
    "version": 3
   },
   "file_extension": ".py",
   "mimetype": "text/x-python",
   "name": "python",
   "nbconvert_exporter": "python",
   "pygments_lexer": "ipython3",
   "version": "3.10.12"
  }
 },
 "nbformat": 4,
 "nbformat_minor": 2
}
